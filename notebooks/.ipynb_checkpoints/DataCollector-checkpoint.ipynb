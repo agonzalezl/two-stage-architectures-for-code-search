{
 "cells": [
  {
   "cell_type": "code",
   "execution_count": null,
   "id": "polished-mistress",
   "metadata": {},
   "outputs": [],
   "source": [
    "import time\n",
    "from stackapi import StackAPI\n",
    "SITE = StackAPI('stackoverflow')\n",
    "\n",
    "# https://api.stackexchange.com/docs/advanced-search\n",
    "so_filter = \"!-NKTjL10PP0gsCOfCLUV2tJ6bCzs1*0Tu\"\n"
   ]
  },
  {
   "cell_type": "code",
   "execution_count": null,
   "id": "initial-tuner",
   "metadata": {},
   "outputs": [],
   "source": [
    "import re\n",
    "\n",
    "# Extract code from SO answer\n",
    "def extract_code(text):\n",
    "\n",
    "    regex = r\"<pre><code>(.|\\n)*?<\\/code><\\/pre>\"\n",
    "\n",
    "    matches = re.finditer(regex, text, re.MULTILINE)\n",
    "    code = []\n",
    "    for matchNum, match in enumerate(matches, start=1):\n",
    "        for groupNum in range(0, len(match.groups())):  \n",
    "            snippet = match.group(groupNum).replace(\"<pre>\",\"\").replace(\"<code>\",\"\").replace(\"</code>\",\"\").replace(\"</pre>\",\"\")\n",
    "            code.append(snippet)\n",
    "    return code\n",
    "\n",
    "import re\n",
    "\n",
    "def cleanhtml(raw_html):\n",
    "    cleanr = re.compile('<.*?>')\n",
    "    cleantext = re.sub(cleanr, '', raw_html)\n",
    "    return cleantext"
   ]
  },
  {
   "cell_type": "code",
   "execution_count": null,
   "id": "basic-phrase",
   "metadata": {},
   "outputs": [],
   "source": [
    "# Create files:\n",
    "question_title_file = open(\"sodata/title.txt\",\"a\", encoding=\"utf-8\")\n",
    "question_body_file = open(\"sodata/body.txt\",\"a\", encoding=\"utf-8\")\n",
    "answer_code_file = open(\"sodata/code.txt\",\"a\", encoding=\"utf-8\")\n",
    "meta_code_file = open(\"sodata/meta.txt\",\"a\", encoding=\"utf-8\")"
   ]
  },
  {
   "cell_type": "code",
   "execution_count": null,
   "id": "acquired-water",
   "metadata": {},
   "outputs": [],
   "source": [
    "tags = [\"keras\"] # \"deep-learning;python\",\"machine-learning;python\",pandas\n",
    "\n",
    "questions_processed = []"
   ]
  },
  {
   "cell_type": "code",
   "execution_count": null,
   "id": "mathematical-drawing",
   "metadata": {},
   "outputs": [],
   "source": [
    "## Get existing questions (in other tags)\n",
    "open(\"sodata/keras/meta.txt\",\"a\", encoding=\"utf-8\")\n",
    "file = open(\"sodata/keras/meta.txt\", 'r')\n",
    "existing_meta = file.read()\n",
    "for entry in existing_meta.split(\"\\n\"):        \n",
    "    questions_processed.append((entry.split(\",\")[0]))\n",
    "\n",
    "file.close()"
   ]
  },
  {
   "cell_type": "code",
   "execution_count": null,
   "id": "colored-chemistry",
   "metadata": {},
   "outputs": [],
   "source": [
    "print(len(questions_processed))"
   ]
  },
  {
   "cell_type": "code",
   "execution_count": null,
   "id": "alive-fleece",
   "metadata": {
    "scrolled": true
   },
   "outputs": [],
   "source": [
    "\n",
    "for tag in tags:\n",
    "    \n",
    "    print(\"Tag\",tag)\n",
    "    \n",
    "    has_more = True\n",
    "\n",
    "    page_number = 1\n",
    "\n",
    "    while has_more :\n",
    "\n",
    "        count = 0\n",
    "        \n",
    "        # Stack overflow bans IP if they receive >3 requests per second\n",
    "        time.sleep(20)\n",
    "        \n",
    "        print(\"Page\",page_number, \"tag\", tag)\n",
    "        questions = SITE.fetch('search/advanced', page=page_number, pagesize=100, tagged=tag, sort='votes', accepted=True, filter=so_filter)\n",
    "\n",
    "        print(\"number of questions\", len(questions['items']))\n",
    "        for question in questions['items']:\n",
    "            \n",
    "            count+=1\n",
    "            if(count%250 == 0):\n",
    "                print(count,\"/\",len(questions[\"items\"]))\n",
    "            \n",
    "            if question[\"question_id\"] in questions_processed:\n",
    "                continue\n",
    "\n",
    "            questions_processed.append(question[\"question_id\"])\n",
    "\n",
    "            accepted_answer = {}\n",
    "            for answer in question[\"answers\"]:\n",
    "                if answer[\"is_accepted\"]:\n",
    "                    accepted_answer = answer\n",
    "\n",
    "            if accepted_answer == {}:\n",
    "                #print(\"Question \",question[\"question_id\"],\"has no accepted answer\")\n",
    "                continue\n",
    "\n",
    "            title = question[\"title\"]\n",
    "            link = question[\"link\"]\n",
    "            body = cleanhtml(question[\"body\"])\n",
    "            code = extract_code(accepted_answer[\"body\"])\n",
    "\n",
    "            if len(code) == 0:\n",
    "                #print(\"Question \",question[\"question_id\"],\"has no answer with code\")\n",
    "                continue\n",
    "\n",
    "            question_title_file.write(\"%s\\n\" % title)\n",
    "            question_body_file.write(\"%s\\n\" % repr(body))\n",
    "            answer_code_file.write(\"%s\\n\" % repr(\"\\n\".join(code)))\n",
    "            meta_code_file.write(\"%s\\n\" % (str(question[\"question_id\"])+\",\"+link)  )\n",
    "\n",
    "        has_more = questions[\"has_more\"]\n",
    "        print(\"Page ended\", \"has more?\",has_more)\n",
    "        page_number += 1\n",
    "            \n",
    "print(\"End\")\n",
    "question_title_file.close()\n",
    "question_body_file.close()\n",
    "answer_code_file.close()\n",
    "meta_code_file.close()\n",
    "print(\"Finish\")"
   ]
  },
  {
   "cell_type": "code",
   "execution_count": null,
   "id": "boring-heater",
   "metadata": {},
   "outputs": [],
   "source": [
    "question_title_file.close()\n",
    "question_body_file.close()\n",
    "answer_code_file.close()\n",
    "meta_code_file.close()"
   ]
  },
  {
   "cell_type": "code",
   "execution_count": null,
   "id": "specific-warning",
   "metadata": {},
   "outputs": [],
   "source": []
  },
  {
   "cell_type": "code",
   "execution_count": null,
   "id": "alpha-catalog",
   "metadata": {},
   "outputs": [],
   "source": []
  },
  {
   "cell_type": "code",
   "execution_count": null,
   "id": "statewide-algebra",
   "metadata": {},
   "outputs": [],
   "source": [
    "questions[\"items\"][0].keys()"
   ]
  },
  {
   "cell_type": "code",
   "execution_count": null,
   "id": "matched-communications",
   "metadata": {},
   "outputs": [],
   "source": [
    "questions[\"page\"]"
   ]
  },
  {
   "cell_type": "code",
   "execution_count": null,
   "id": "exterior-freeware",
   "metadata": {},
   "outputs": [],
   "source": [
    "questions[\"has_more\"]"
   ]
  },
  {
   "cell_type": "code",
   "execution_count": null,
   "id": "happy-picking",
   "metadata": {},
   "outputs": [],
   "source": [
    "questions = SITE.fetch('search/advanced', page=1, pagesize=2, tagged='python;tensorflow', q='title:how', sort='votes', accepted=True, filter=so_filter)"
   ]
  },
  {
   "cell_type": "code",
   "execution_count": null,
   "id": "american-unknown",
   "metadata": {},
   "outputs": [],
   "source": [
    "questions[\"items\"][0]"
   ]
  },
  {
   "cell_type": "code",
   "execution_count": null,
   "id": "flexible-retirement",
   "metadata": {},
   "outputs": [],
   "source": [
    "for q in questions[\"items\"]:\n",
    "    print(q[\"title\"])"
   ]
  },
  {
   "cell_type": "code",
   "execution_count": null,
   "id": "operational-porcelain",
   "metadata": {},
   "outputs": [],
   "source": [
    "questions = SITE.fetch('search/advanced', page=360, pagesize=100, tagged='python;tensorflow', q='title:how', sort='votes', accepted=True, filter=so_filter)\n"
   ]
  },
  {
   "cell_type": "code",
   "execution_count": null,
   "id": "warming-baseball",
   "metadata": {},
   "outputs": [],
   "source": [
    "questions[\"has_more\"]"
   ]
  },
  {
   "cell_type": "code",
   "execution_count": null,
   "id": "stunning-qualification",
   "metadata": {},
   "outputs": [],
   "source": []
  }
 ],
 "metadata": {
  "kernelspec": {
   "display_name": "Python 3",
   "language": "python",
   "name": "python3"
  },
  "language_info": {
   "codemirror_mode": {
    "name": "ipython",
    "version": 3
   },
   "file_extension": ".py",
   "mimetype": "text/x-python",
   "name": "python",
   "nbconvert_exporter": "python",
   "pygments_lexer": "ipython3",
   "version": "3.8.0"
  }
 },
 "nbformat": 4,
 "nbformat_minor": 5
}
