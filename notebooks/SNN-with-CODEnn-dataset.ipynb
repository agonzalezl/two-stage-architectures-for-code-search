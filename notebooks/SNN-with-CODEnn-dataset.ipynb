{
 "cells": [
  {
   "cell_type": "markdown",
   "id": "fatty-selection",
   "metadata": {},
   "source": [
    "# SNN with CODEnn Dataset\n"
   ]
  },
  {
   "cell_type": "code",
   "execution_count": 1,
   "id": "opposite-source",
   "metadata": {},
   "outputs": [],
   "source": [
    "import tensorflow as tf\n",
    "from tensorflow.keras import backend as K\n",
    "from tensorflow.keras.callbacks import EarlyStopping\n",
    "import random\n",
    "import numpy as np\n",
    "import tables\n",
    "from tqdm import tqdm\n",
    "from tensorflow.keras.losses import cosine_similarity"
   ]
  },
  {
   "cell_type": "code",
   "execution_count": 2,
   "id": "knowing-blade",
   "metadata": {},
   "outputs": [],
   "source": [
    "# All load_hdf5(), pad(), load_pickle() functions obtained from Deep Code search repository\n",
    "def load_hdf5(vecfile, start_offset, chunk_size):\n",
    "    \"\"\"reads training sentences(list of int array) from a hdf5 file\"\"\"  \n",
    "    table = tables.open_file(vecfile)\n",
    "    data = table.get_node('/phrases')[:].astype(np.int)\n",
    "    index = table.get_node('/indices')[:]\n",
    "    data_len = index.shape[0]\n",
    "    if chunk_size==-1:#if chunk_size is set to -1, then, load all data\n",
    "        chunk_size=data_len\n",
    "    start_offset = start_offset%data_len    \n",
    "    sents = []\n",
    "    for offset in tqdm(range(start_offset, start_offset+chunk_size)):\n",
    "        offset = offset%data_len\n",
    "        len, pos = index[offset]['length'], index[offset]['pos']\n",
    "        sents.append(data[pos:pos + len])\n",
    "    table.close()\n",
    "    return sents\n",
    "\n",
    "def pad(data, len=None):\n",
    "    from tensorflow.keras.preprocessing.sequence import pad_sequences\n",
    "    return pad_sequences(data, maxlen=len, padding='post', truncating='post', value=0)\n",
    "\n",
    "import pickle\n",
    "\n",
    "def load_pickle(filename):\n",
    "    return pickle.load(open(filename, 'rb'))   "
   ]
  },
  {
   "cell_type": "code",
   "execution_count": 3,
   "id": "quarterly-theology",
   "metadata": {},
   "outputs": [
    {
     "name": "stderr",
     "output_type": "stream",
     "text": [
      "100%|██████████████████████████████████████████████████████████████████████████| 1000/1000 [00:00<00:00, 113694.51it/s]\n",
      "100%|██████████████████████████████████████████████████████████████████████████| 1000/1000 [00:00<00:00, 199188.11it/s]\n",
      "100%|██████████████████████████████████████████████████████████████████████████| 1000/1000 [00:00<00:00, 499797.90it/s]\n"
     ]
    }
   ],
   "source": [
    "data_path = \"../data/codenn/dummy/\"\n",
    "\n",
    "file_format = \"h5\"\n",
    "\n",
    "# 18223872 (len) #1000000\n",
    "train_tokens = load_hdf5( data_path+\"train.tokens.\"+file_format, 0, 1000)\n",
    "train_desc = load_hdf5( data_path+\"train.desc.\"+file_format, 0, 1000)\n",
    "# Negative sampling\n",
    "train_bad_desc = load_hdf5( data_path+\"train.desc.\"+file_format, 0, 1000)\n",
    "random.shuffle(train_bad_desc)\n",
    "vocabulary_tokens = load_pickle(data_path+\"vocab.tokens.pkl\")\n",
    "vocabulary_desc = load_pickle(data_path+\"vocab.desc.pkl\")"
   ]
  },
  {
   "cell_type": "code",
   "execution_count": 4,
   "id": "impaired-drill",
   "metadata": {},
   "outputs": [
    {
     "name": "stdout",
     "output_type": "stream",
     "text": [
      "46 10001 10001\n"
     ]
    }
   ],
   "source": [
    "code_vector = train_tokens\n",
    "desc_vector = train_desc\n",
    "bad_desc_vector = train_bad_desc\n",
    "\n",
    "longer_code = max(len(t) for t in code_vector)\n",
    "longer_desc = max(len(t) for t in desc_vector)\n",
    "\n",
    "longer_sentence = max(longer_code, longer_desc)\n",
    "\n",
    "code_vector = pad(code_vector, longer_sentence)\n",
    "desc_vector = pad(desc_vector, longer_sentence)\n",
    "bad_desc_vector = pad(bad_desc_vector, longer_sentence)\n",
    "\n",
    "number_desc_tokens = len(vocabulary_desc)\n",
    "number_code_tokens = len(vocabulary_tokens)\n",
    "print(longer_sentence, number_code_tokens, number_desc_tokens)"
   ]
  },
  {
   "cell_type": "markdown",
   "id": "trying-canada",
   "metadata": {},
   "source": [
    "A this point we have 2 different vocabularies that we need to merge"
   ]
  },
  {
   "cell_type": "code",
   "execution_count": 5,
   "id": "retained-providence",
   "metadata": {},
   "outputs": [
    {
     "data": {
      "text/plain": [
       "1197"
      ]
     },
     "execution_count": 5,
     "metadata": {},
     "output_type": "execute_result"
    }
   ],
   "source": [
    "vocabulary_desc[\"widget\"]"
   ]
  },
  {
   "cell_type": "code",
   "execution_count": 6,
   "id": "ultimate-fashion",
   "metadata": {},
   "outputs": [
    {
     "data": {
      "text/plain": [
       "746"
      ]
     },
     "execution_count": 6,
     "metadata": {},
     "output_type": "execute_result"
    }
   ],
   "source": [
    "vocabulary_tokens[\"widget\"]"
   ]
  },
  {
   "cell_type": "code",
   "execution_count": 7,
   "id": "liked-scientist",
   "metadata": {},
   "outputs": [],
   "source": [
    "merged_vocabulary = { \"<s>\":0, \"</s>\":0,  \"UNK\": 1, }"
   ]
  },
  {
   "cell_type": "code",
   "execution_count": 8,
   "id": "liked-liverpool",
   "metadata": {},
   "outputs": [
    {
     "data": {
      "text/plain": [
       "13645"
      ]
     },
     "execution_count": 8,
     "metadata": {},
     "output_type": "execute_result"
    }
   ],
   "source": [
    "count = 2\n",
    "for word in vocabulary_desc:\n",
    "    if not word in  merged_vocabulary:\n",
    "        merged_vocabulary[word] = count\n",
    "        count+=1\n",
    "    \n",
    "for word in vocabulary_tokens:\n",
    "    if not word in  merged_vocabulary:\n",
    "        merged_vocabulary[word] = count\n",
    "        count+=1\n",
    "        \n",
    "len(merged_vocabulary)"
   ]
  },
  {
   "cell_type": "code",
   "execution_count": 9,
   "id": "handed-classics",
   "metadata": {},
   "outputs": [],
   "source": [
    "inversed_vocabulary_desc = dict((y,x) for x,y in vocabulary_desc.items())\n",
    "inversed_vocabulary_tokens = dict((y,x) for x,y in vocabulary_tokens.items())"
   ]
  },
  {
   "cell_type": "code",
   "execution_count": 10,
   "id": "figured-volume",
   "metadata": {},
   "outputs": [
    {
     "name": "stdout",
     "output_type": "stream",
     "text": [
      "0 / 1000\n"
     ]
    }
   ],
   "source": [
    "for idx, element in enumerate(code_vector):\n",
    "    for idxx, num in enumerate(element):\n",
    "        code_vector[idx,idxx] = merged_vocabulary[inversed_vocabulary_tokens[num]]\n",
    "    \n",
    "    if idx % 100000 == 0:\n",
    "        print(idx, \"/\", len(code_vector))"
   ]
  },
  {
   "cell_type": "code",
   "execution_count": 11,
   "id": "guided-thumb",
   "metadata": {},
   "outputs": [
    {
     "name": "stdout",
     "output_type": "stream",
     "text": [
      "0 / 1000\n"
     ]
    }
   ],
   "source": [
    "for idx, element in enumerate(desc_vector):\n",
    "    for idxx, num in enumerate(element):\n",
    "        desc_vector[idx,idxx] = merged_vocabulary[inversed_vocabulary_desc[num]]\n",
    "    \n",
    "    if idx % 100000 == 0:\n",
    "        print(idx, \"/\", len(desc_vector))"
   ]
  },
  {
   "cell_type": "code",
   "execution_count": 12,
   "id": "regular-premises",
   "metadata": {},
   "outputs": [
    {
     "name": "stdout",
     "output_type": "stream",
     "text": [
      "(None, 46, 512)\n"
     ]
    },
    {
     "data": {
      "image/png": "[encoded data removed]",
      "text/plain": [
       "<IPython.core.display.Image object>"
      ]
     },
     "execution_count": 12,
     "metadata": {},
     "output_type": "execute_result"
    }
   ],
   "source": [
    "embedding_size = 512\n",
    "longer_input_size = longer_sentence\n",
    "number_of_tokens = len(merged_vocabulary)\n",
    "\n",
    "input_layer = tf.keras.Input(shape=(longer_input_size,), name=\"input\")\n",
    "embeding_layer = tf.keras.layers.Embedding(number_of_tokens, embedding_size, name=\"embeding\")(input_layer)\n",
    "\n",
    "attention_layer = tf.keras.layers.Attention(name=\"attention\")([embeding_layer, embeding_layer])\n",
    "\n",
    "print(attention_layer.shape)\n",
    "\n",
    "sum_layer = tf.keras.layers.Lambda(lambda x: K.sum(x, axis=1), name=\"sum\")( attention_layer)\n",
    "#average_layer = tf.keras.layers.Lambda(lambda x: K.mean(x, axis=1), name=\"average\")( attention_layer)\n",
    "\n",
    "model = tf.keras.Model(inputs=[input_layer], outputs=[sum_layer], name='embedding_model')\n",
    "\n",
    "tf.keras.utils.plot_model(model, \"embedding_model.png\", show_shapes=True, expand_nested=True)"
   ]
  },
  {
   "cell_type": "code",
   "execution_count": 13,
   "id": "hearing-sheep",
   "metadata": {},
   "outputs": [
    {
     "data": {
      "image/png": "[encoded data removed]",
      "text/plain": [
       "<IPython.core.display.Image object>"
      ]
     },
     "execution_count": 13,
     "metadata": {},
     "output_type": "execute_result"
    }
   ],
   "source": [
    "input_code = tf.keras.Input(shape=(longer_sentence,), name=\"code\")\n",
    "input_desc = tf.keras.Input(shape=(longer_sentence,), name=\"desc\")\n",
    "\n",
    "output_code = model(input_code)\n",
    "output_desc = model(input_desc)\n",
    "\n",
    "cos_sim = tf.keras.layers.Dot(axes=1, normalize=True, name='cos_sim')([output_code, output_desc]) \n",
    "\n",
    "cos_model = tf.keras.Model(inputs=[input_code, input_desc], outputs=[cos_sim],name='snn_model')  \n",
    "\n",
    "tf.keras.utils.plot_model(cos_model, \"snn_model.png\", show_shapes=True, expand_nested=True)"
   ]
  },
  {
   "cell_type": "code",
   "execution_count": 20,
   "id": "appreciated-small",
   "metadata": {},
   "outputs": [
    {
     "name": "stdout",
     "output_type": "stream",
     "text": [
      "2000 2000 (2000, 1)\n"
     ]
    }
   ],
   "source": [
    "\n",
    "#code_vector\n",
    "#desc_vector\n",
    "negative_description_vector = desc_vector\n",
    "random.shuffle(negative_description_vector)\n",
    "\n",
    "positive_results = np.ones((len(desc_vector),1))\n",
    "negative_results = np.zeros((len(negative_description_vector), 1))\n",
    "\n",
    "extended_code_vector = []\n",
    "extended_code_vector.extend(code_vector)\n",
    "extended_code_vector.extend(code_vector)\n",
    "\n",
    "extended_desc_vector = []\n",
    "extended_desc_vector.extend(desc_vector)\n",
    "extended_desc_vector.extend(negative_description_vector)\n",
    "\n",
    "result_vector = np.concatenate((positive_results, negative_results), axis=0)\n",
    "\n",
    "print(len(extended_code_vector), len(extended_desc_vector), result_vector.shape)"
   ]
  },
  {
   "cell_type": "code",
   "execution_count": 25,
   "id": "boring-ticket",
   "metadata": {},
   "outputs": [
    {
     "name": "stdout",
     "output_type": "stream",
     "text": [
      "Epoch 1/10\n",
      "32/32 [==============================] - 5s 95ms/step - loss: 0.7221 - accuracy: 0.4364\n",
      "Epoch 2/10\n",
      "32/32 [==============================] - 3s 96ms/step - loss: 0.7140 - accuracy: 0.4414\n",
      "Epoch 3/10\n",
      "32/32 [==============================] - 3s 94ms/step - loss: 0.7092 - accuracy: 0.4493\n",
      "Epoch 4/10\n",
      "32/32 [==============================] - 3s 95ms/step - loss: 0.7098 - accuracy: 0.4665\n",
      "Epoch 5/10\n",
      "32/32 [==============================] - 3s 99ms/step - loss: 0.7052 - accuracy: 0.4800\n",
      "Epoch 6/10\n",
      "32/32 [==============================] - 3s 100ms/step - loss: 0.7069 - accuracy: 0.4531\n",
      "Epoch 7/10\n",
      "32/32 [==============================] - 3s 99ms/step - loss: 0.7081 - accuracy: 0.4694\n",
      "Epoch 8/10\n",
      "32/32 [==============================] - 3s 102ms/step - loss: 0.7073 - accuracy: 0.4504\n",
      "Epoch 9/10\n",
      "32/32 [==============================] - 3s 99ms/step - loss: 0.7147 - accuracy: 0.4373\n",
      "Epoch 10/10\n",
      "32/32 [==============================] - 3s 99ms/step - loss: 0.7008 - accuracy: 0.4981\n"
     ]
    },
    {
     "data": {
      "text/plain": [
       "<tensorflow.python.keras.callbacks.History at 0x2a084504160>"
      ]
     },
     "execution_count": 25,
     "metadata": {},
     "output_type": "execute_result"
    }
   ],
   "source": [
    "\n",
    "cos_model.compile(optimizer=\"adam\", loss='binary_crossentropy', metrics=['accuracy'])\n",
    "\n",
    "cos_model.fit(x=[np.array(extended_code_vector), np.array(extended_desc_vector)], y=result_vector, epochs=10, verbose=1, batch_size=64)"
   ]
  },
  {
   "cell_type": "code",
   "execution_count": null,
   "id": "unsigned-midwest",
   "metadata": {},
   "outputs": [],
   "source": []
  },
  {
   "cell_type": "code",
   "execution_count": null,
   "id": "olive-nashville",
   "metadata": {},
   "outputs": [],
   "source": []
  },
  {
   "cell_type": "code",
   "execution_count": null,
   "id": "productive-sharp",
   "metadata": {},
   "outputs": [],
   "source": []
  },
  {
   "cell_type": "code",
   "execution_count": null,
   "id": "infrared-surrey",
   "metadata": {},
   "outputs": [],
   "source": []
  }
 ],
 "metadata": {
  "kernelspec": {
   "display_name": "Python 3",
   "language": "python",
   "name": "python3"
  },
  "language_info": {
   "codemirror_mode": {
    "name": "ipython",
    "version": 3
   },
   "file_extension": ".py",
   "mimetype": "text/x-python",
   "name": "python",
   "nbconvert_exporter": "python",
   "pygments_lexer": "ipython3",
   "version": "3.8.0"
  }
 },
 "nbformat": 4,
 "nbformat_minor": 5
}
